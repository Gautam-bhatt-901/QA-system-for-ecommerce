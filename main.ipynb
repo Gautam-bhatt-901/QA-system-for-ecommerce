{
 "cells": [
  {
   "cell_type": "code",
   "execution_count": 2,
   "id": "654d26da-ba06-4be9-b306-de026a367d2f",
   "metadata": {},
   "outputs": [],
   "source": [
    "import requests\n",
    "import pandas as pd\n",
    "import numpy as np\n",
    "from bs4 import BeautifulSoup"
   ]
  },
  {
   "cell_type": "code",
   "execution_count": 1,
   "id": "7b926487-d6a7-45e0-8347-bdcc33e93343",
   "metadata": {},
   "outputs": [],
   "source": [
    "url = \"https://www.flipkart.com/motorola-edge-50-fusion-marshmallow-blue-128-gb/p/itmf88eea5799a27?pid=MOBGXTYZEZSZQE7W&lid=LSTMOBGXTYZEZSZQE7WIBXLBI&marketplace=FLIPKART&store=tyy%2F4io&srno=b_1_1&otracker=browse&fm=organic&iid=6bf71f72-897f-4e5f-ac21-be2b66d7d754.MOBGXTYZEZSZQE7W.SEARCH&ppt=hp&ppn=homepage&ssid=wri8o089dc0000001743772848143\""
   ]
  },
  {
   "cell_type": "code",
   "execution_count": 3,
   "id": "e5bd030d-f932-49ed-949b-5025610bc5db",
   "metadata": {},
   "outputs": [],
   "source": [
    "# Headers to mimic a real browser\n",
    "headers = {\n",
    "    \"User-Agent\": \"Mozilla/5.0 (Windows NT 10.0; Win64; x64) AppleWebKit/537.36 (KHTML, like Gecko) Chrome/91.0.4472.124 Safari/537.36\"\n",
    "}"
   ]
  },
  {
   "cell_type": "code",
   "execution_count": 4,
   "id": "97e0bb83-5455-49f2-87f9-5c7ed5525960",
   "metadata": {},
   "outputs": [],
   "source": [
    "# Fetch HTML content\n",
    "response = requests.get(url, headers=headers)"
   ]
  },
  {
   "cell_type": "code",
   "execution_count": 5,
   "id": "4ea0c76a-5202-437c-a6a4-f5d37466aed7",
   "metadata": {},
   "outputs": [],
   "source": [
    "soup = BeautifulSoup(response.content, \"html.parser\")"
   ]
  },
  {
   "cell_type": "code",
   "execution_count": 6,
   "id": "a781a01c-32ed-4701-be53-19516703e228",
   "metadata": {},
   "outputs": [],
   "source": [
    "# Extract Data\n",
    "# 1. Product Name\n",
    "product_name = soup.find(\"span\", class_=\"VU-ZEz\").text.strip()"
   ]
  },
  {
   "cell_type": "code",
   "execution_count": 7,
   "id": "796dbd8c-14c2-4c05-97eb-ac3d6d1c5598",
   "metadata": {},
   "outputs": [],
   "source": [
    "# 2. Product price\n",
    "header_section = soup.find(\"div\", class_ = \"C7fEHH\")\n",
    "price = header_section.find(\"div\", class_ = \"Nx9bqj CxhGGd\").text.strip()"
   ]
  },
  {
   "cell_type": "code",
   "execution_count": 27,
   "id": "17803d3a-86a2-40f3-a6cd-5dcf75a8c699",
   "metadata": {},
   "outputs": [
    {
     "data": {
      "text/plain": [
       "'₹22,999'"
      ]
     },
     "execution_count": 27,
     "metadata": {},
     "output_type": "execute_result"
    }
   ],
   "source": [
    "price"
   ]
  },
  {
   "cell_type": "code",
   "execution_count": 8,
   "id": "a13b7429-1684-47ff-a3e4-1734fb057727",
   "metadata": {},
   "outputs": [],
   "source": [
    "# Product Specifications\n",
    "specs = {}\n",
    "spec_section = soup.find(\"div\", class_=\"_3Fm-hO\")\n",
    "if spec_section:\n",
    "    tables = spec_section.find_all(\"tr\", class_=\"WJdYP6 row\")\n",
    "    for row in tables:\n",
    "        key = row.find(\"td\", class_=\"+fFi1w col col-3-12\").text.strip()\n",
    "        value = row.find(\"td\", class_=\"Izz52n col col-9-12\").text.strip()\n",
    "        specs[key] = value"
   ]
  },
  {
   "cell_type": "code",
   "execution_count": 9,
   "id": "af4a5650-3026-4ed5-96d2-c30581552ff1",
   "metadata": {},
   "outputs": [
    {
     "data": {
      "text/plain": [
       "{'In The Box': 'Handset, 68W Charger, USB Cable, Sim Tool, Protective Cover, Guides',\n",
       " 'Model Number': 'PB300002IN|PB300010IN',\n",
       " 'Model Name': 'Edge 50 Fusion',\n",
       " 'Color': 'Marshmallow Blue',\n",
       " 'Browse Type': 'Smartphones',\n",
       " 'SIM Type': 'Dual Sim',\n",
       " 'Hybrid Sim Slot': 'No',\n",
       " 'Touchscreen': 'Yes',\n",
       " 'OTG Compatible': 'Yes',\n",
       " 'Quick Charging': 'Yes',\n",
       " 'Sound Enhancements': 'Stereo Speakers',\n",
       " 'SAR Value': 'Head: 1.04 W/Kg (at 1 g), Body: 1.05 W/Kg (at 1 g)',\n",
       " 'Display Size': '17.02 cm (6.7 inch)',\n",
       " 'Resolution': '2400 x 1080 Pixels',\n",
       " 'Resolution Type': 'Full HD+',\n",
       " 'GPU': 'Adreno 710',\n",
       " 'Display Type': 'Full HD+ pOLED Endless Edge Display',\n",
       " 'Other Display Features': '144Hz Refresh Rate, 10 Bit, 100% DCI P3, 1600 Peak Nits, 1200 HBM Nits, 360Hz Game Mode, Aqua Touch, 720Hz PWM/DC Dimming, Corning Glass 5, SGS Low Blue Light, SGS Low Motion Blur, Aspect Ratio: 20:9, Screen-to-Body Ratio: 92%',\n",
       " 'Operating System': 'Android 14',\n",
       " 'Processor Brand': 'Snapdragon',\n",
       " 'Processor Type': '7s Gen 2',\n",
       " 'Processor Core': 'Octa Core',\n",
       " 'Primary Clock Speed': '2.4 GHz',\n",
       " 'Secondary Clock Speed': '1.95 GHz',\n",
       " 'Operating Frequency': '5G NR: n1/n3/n5/n7/n8/n20/n28/n38/n40/n41/n77/n78, 4G LTE: B1/B2/B3/B5/B7/B8/B18/B19/B20/B26/B28/B32/B38/B40/B41/B42, 3G WCDMA: B1/B2/B5/B8/B19, 2G GSM: B2/B3/B5/B8',\n",
       " 'Internal Storage': '128 GB',\n",
       " 'RAM': '8 GB',\n",
       " 'Primary Camera Available': 'Yes',\n",
       " 'Primary Camera': '50MP + 13MP',\n",
       " 'Primary Camera Features': 'Dual Camera Setup: 50MP Main Camera (Sony Lytia 700C, f/1.8 Aperture, 1.0um Pixel Size, Ultra Pixel Technology for 2.0um, Quad PDAF - All Pixel Focus, Optical Image Stabilization (OIS)) + 13MP Ultrawide Angle Camera (FOV: 120 Degree, Macro Vision, f/2.2 Aperture, 1.12um Pixel Size, PDAF), Features: Ultra Res, Dual Capture, Spot Color, Night Vision, Macro Vision, Portrait, Live Filter, Panorama, AR Stickers, Pro Mode (W/ Long Exposure), Smart Composition, Auto Smile Capture, Google Lens Integration, Active Photos, Timer, High Res, Digital Zoom (Upto 8X), RAW Photo Output, HDR, Burst Shot, Assistive Grid, Leveler, Watermark, Barcode Scanner, Quick Capture, Tap Anywhere to Capture, Video Features: Dual Capture, Spot Color, Timelapse (W/ Hyperlapse), Macro, Slow Motion, Video Stabilization, Video Snapshot, Efficient Videos',\n",
       " 'Secondary Camera Available': 'Yes',\n",
       " 'Secondary Camera': '32MP Front Camera',\n",
       " 'Secondary Camera Features': 'Front Camera Setup: 32MP Camera (f/2.4 Aperture, 0.7um Pixel Size, Quad Pixel Technology for 1.4um), Features: Dual Capture, Spot Color, Portrait, Live Filter, Group Selfie, Pro Mode (W/ Long Exposure), Auto Smile Capture, Gesture Selfie, Active Photos, Face Beauty, Timer, Selfie Animation, RAW Photo Output, HDR, Assistive Grid, Leveler, Selfie Photo Mirror, Watermark, Burst Shot, Tap Anywhere to Capture, Video Features: Dual Capture, Spot Color, Timelapse (W/ Hyperlapse), Face Beauty, Video Snapshot, Efficient Videos',\n",
       " 'Flash': 'Single LED Flash',\n",
       " 'HD Recording': 'Yes',\n",
       " 'Full HD Recording': 'Yes',\n",
       " 'Video Recording': 'Yes',\n",
       " 'Video Recording Resolution': 'Rear Camera: Main Camera [UHD (at 30 fps), UHD 20:9 (at 30 fps), FHD (at 30 fps), FHD 20:9 (at 30 fps), FHD (at 60 fps), FHD 20:9 (at 60 fps)], Macro Camera [UHD (at 30 fps), UHD 20:9 (at 30 fps), FHD (at 30 fps), FHD 20:9 (at 30 fps)] | Front Camera: UHD (at 30 fps), UHD 20:9 (at 30 fps), FHD (at 30 fps), FHD 20:9 (at 30 fps)',\n",
       " 'Digital Zoom': '8X',\n",
       " 'Frame Rate': '30 fps, 60 fps',\n",
       " 'Dual Camera Lens': 'Primary Camera',\n",
       " 'Speaker Phone': 'Yes',\n",
       " 'Network Type': '2G, 3G, 4G, 5G',\n",
       " 'Supported Networks': '4G LTE, 5G, GSM, WCDMA',\n",
       " 'Internet Connectivity': '5G, 4G, 3G, Wi-Fi, EDGE',\n",
       " '3G': 'Yes',\n",
       " 'Micro USB Port': 'Yes',\n",
       " 'Micro USB Version': 'Type C Port (USB 2.0)',\n",
       " 'Bluetooth Support': 'Yes',\n",
       " 'Bluetooth Version': 'v5.2',\n",
       " 'Wi-Fi': 'Yes',\n",
       " 'Wi-Fi Version': 'Wi-Fi 802.11 a/b/g/n/ac (2.4 GHz | 5 GHz)',\n",
       " 'Wi-Fi Hotspot': 'Yes',\n",
       " 'NFC': 'Yes',\n",
       " 'USB Connectivity': 'Yes',\n",
       " 'EDGE': 'Yes',\n",
       " 'Audio Jack': 'No',\n",
       " 'GPS Support': 'Yes',\n",
       " 'Smartphone': 'Yes',\n",
       " 'SIM Size': 'Nano Sim',\n",
       " 'SMS': 'Yes',\n",
       " 'Graphics PPI': '395 PPI',\n",
       " 'Sensors': 'Fingerprint on Display, Proximity Sensor, Accelerometer, Ambient Light Sensor, Gyroscope, SAR Sensor, Sensor Hub, E-Compass',\n",
       " 'Upgradable Operating System': '3 Years OS Upgrade, 4 Years SMRs',\n",
       " 'Other Features': \"RAM Boost 2.0, Water Protection: IP68, Sound Certification: Dolby Atmos, HiRES, Dual Microphones, Security: FoD FPS, Face Unlock, Moto Secure, Thinkshield for Mobile, Hello UI: Personalize (Theme, Wallpaper), Display (Peek Display, Attentive Display), Gestures (Quick Capture, Fast Flashlight, Three Finger Screenshot, Flip for DND, Pick Up to Silence, Lift to Unlock, Swipe to Split, Quick Launch), Play (Media Controls, Gametime), Tips (Take a Tour, What's New in Android 14), Voice Control: Google Assistant, SW Unique Experience: Moto Connect (Wireless), Moto Unplugged, Ready For\",\n",
       " 'GPS Type': 'GPS, AGPS, LTEPP, GLONASS, GALILEO, QZSS',\n",
       " 'FM Radio': 'No',\n",
       " 'FM Radio Recording': 'No',\n",
       " 'Battery Capacity': '5000 mAh',\n",
       " 'Width': '73.1 mm',\n",
       " 'Height': '162 mm',\n",
       " 'Depth': '7.9 mm',\n",
       " 'Weight': '175 g',\n",
       " 'Warranty Summary': '1 Year on Handset and 6 Months on Accessories',\n",
       " 'Domestic Warranty': '1 Year'}"
      ]
     },
     "execution_count": 9,
     "metadata": {},
     "output_type": "execute_result"
    }
   ],
   "source": [
    "specs"
   ]
  },
  {
   "cell_type": "code",
   "execution_count": 10,
   "id": "9268c310-f3c6-4cc8-9eda-f0f5304cb479",
   "metadata": {},
   "outputs": [
    {
     "data": {
      "text/plain": [
       "'Motorola Edge 50 Fusion (Marshmallow Blue, 128 GB)\\xa0\\xa0(8 GB RAM)'"
      ]
     },
     "execution_count": 10,
     "metadata": {},
     "output_type": "execute_result"
    }
   ],
   "source": [
    "product_name"
   ]
  },
  {
   "cell_type": "code",
   "execution_count": 11,
   "id": "8e36dd9b-c9ec-48f3-9a8e-9d7d6a984df7",
   "metadata": {},
   "outputs": [
    {
     "data": {
      "text/plain": [
       "'₹22,999'"
      ]
     },
     "execution_count": 11,
     "metadata": {},
     "output_type": "execute_result"
    }
   ],
   "source": [
    "price"
   ]
  },
  {
   "cell_type": "code",
   "execution_count": 12,
   "id": "f2074f7e-4dad-48bd-91ec-42230f5bbcf6",
   "metadata": {},
   "outputs": [],
   "source": [
    "documents = []\n",
    "text = f\"Poduct: {product_name}. Price: {price}. \"\n",
    "text += \"Specifications: \" + \". \".join([f\"{key}: {value}\" for key, value in specs.items()])\n",
    "documents.append(text)"
   ]
  },
  {
   "cell_type": "code",
   "execution_count": 13,
   "id": "6316050e-3e36-4fb3-8935-6fb77027cc5f",
   "metadata": {},
   "outputs": [
    {
     "data": {
      "text/plain": [
       "[\"Poduct: Motorola Edge 50 Fusion (Marshmallow Blue, 128 GB)\\xa0\\xa0(8 GB RAM). Price: ₹22,999. Specifications: In The Box: Handset, 68W Charger, USB Cable, Sim Tool, Protective Cover, Guides. Model Number: PB300002IN|PB300010IN. Model Name: Edge 50 Fusion. Color: Marshmallow Blue. Browse Type: Smartphones. SIM Type: Dual Sim. Hybrid Sim Slot: No. Touchscreen: Yes. OTG Compatible: Yes. Quick Charging: Yes. Sound Enhancements: Stereo Speakers. SAR Value: Head: 1.04 W/Kg (at 1 g), Body: 1.05 W/Kg (at 1 g). Display Size: 17.02 cm (6.7 inch). Resolution: 2400 x 1080 Pixels. Resolution Type: Full HD+. GPU: Adreno 710. Display Type: Full HD+ pOLED Endless Edge Display. Other Display Features: 144Hz Refresh Rate, 10 Bit, 100% DCI P3, 1600 Peak Nits, 1200 HBM Nits, 360Hz Game Mode, Aqua Touch, 720Hz PWM/DC Dimming, Corning Glass 5, SGS Low Blue Light, SGS Low Motion Blur, Aspect Ratio: 20:9, Screen-to-Body Ratio: 92%. Operating System: Android 14. Processor Brand: Snapdragon. Processor Type: 7s Gen 2. Processor Core: Octa Core. Primary Clock Speed: 2.4 GHz. Secondary Clock Speed: 1.95 GHz. Operating Frequency: 5G NR: n1/n3/n5/n7/n8/n20/n28/n38/n40/n41/n77/n78, 4G LTE: B1/B2/B3/B5/B7/B8/B18/B19/B20/B26/B28/B32/B38/B40/B41/B42, 3G WCDMA: B1/B2/B5/B8/B19, 2G GSM: B2/B3/B5/B8. Internal Storage: 128 GB. RAM: 8 GB. Primary Camera Available: Yes. Primary Camera: 50MP + 13MP. Primary Camera Features: Dual Camera Setup: 50MP Main Camera (Sony Lytia 700C, f/1.8 Aperture, 1.0um Pixel Size, Ultra Pixel Technology for 2.0um, Quad PDAF - All Pixel Focus, Optical Image Stabilization (OIS)) + 13MP Ultrawide Angle Camera (FOV: 120 Degree, Macro Vision, f/2.2 Aperture, 1.12um Pixel Size, PDAF), Features: Ultra Res, Dual Capture, Spot Color, Night Vision, Macro Vision, Portrait, Live Filter, Panorama, AR Stickers, Pro Mode (W/ Long Exposure), Smart Composition, Auto Smile Capture, Google Lens Integration, Active Photos, Timer, High Res, Digital Zoom (Upto 8X), RAW Photo Output, HDR, Burst Shot, Assistive Grid, Leveler, Watermark, Barcode Scanner, Quick Capture, Tap Anywhere to Capture, Video Features: Dual Capture, Spot Color, Timelapse (W/ Hyperlapse), Macro, Slow Motion, Video Stabilization, Video Snapshot, Efficient Videos. Secondary Camera Available: Yes. Secondary Camera: 32MP Front Camera. Secondary Camera Features: Front Camera Setup: 32MP Camera (f/2.4 Aperture, 0.7um Pixel Size, Quad Pixel Technology for 1.4um), Features: Dual Capture, Spot Color, Portrait, Live Filter, Group Selfie, Pro Mode (W/ Long Exposure), Auto Smile Capture, Gesture Selfie, Active Photos, Face Beauty, Timer, Selfie Animation, RAW Photo Output, HDR, Assistive Grid, Leveler, Selfie Photo Mirror, Watermark, Burst Shot, Tap Anywhere to Capture, Video Features: Dual Capture, Spot Color, Timelapse (W/ Hyperlapse), Face Beauty, Video Snapshot, Efficient Videos. Flash: Single LED Flash. HD Recording: Yes. Full HD Recording: Yes. Video Recording: Yes. Video Recording Resolution: Rear Camera: Main Camera [UHD (at 30 fps), UHD 20:9 (at 30 fps), FHD (at 30 fps), FHD 20:9 (at 30 fps), FHD (at 60 fps), FHD 20:9 (at 60 fps)], Macro Camera [UHD (at 30 fps), UHD 20:9 (at 30 fps), FHD (at 30 fps), FHD 20:9 (at 30 fps)] | Front Camera: UHD (at 30 fps), UHD 20:9 (at 30 fps), FHD (at 30 fps), FHD 20:9 (at 30 fps). Digital Zoom: 8X. Frame Rate: 30 fps, 60 fps. Dual Camera Lens: Primary Camera. Speaker Phone: Yes. Network Type: 2G, 3G, 4G, 5G. Supported Networks: 4G LTE, 5G, GSM, WCDMA. Internet Connectivity: 5G, 4G, 3G, Wi-Fi, EDGE. 3G: Yes. Micro USB Port: Yes. Micro USB Version: Type C Port (USB 2.0). Bluetooth Support: Yes. Bluetooth Version: v5.2. Wi-Fi: Yes. Wi-Fi Version: Wi-Fi 802.11 a/b/g/n/ac (2.4 GHz | 5 GHz). Wi-Fi Hotspot: Yes. NFC: Yes. USB Connectivity: Yes. EDGE: Yes. Audio Jack: No. GPS Support: Yes. Smartphone: Yes. SIM Size: Nano Sim. SMS: Yes. Graphics PPI: 395 PPI. Sensors: Fingerprint on Display, Proximity Sensor, Accelerometer, Ambient Light Sensor, Gyroscope, SAR Sensor, Sensor Hub, E-Compass. Upgradable Operating System: 3 Years OS Upgrade, 4 Years SMRs. Other Features: RAM Boost 2.0, Water Protection: IP68, Sound Certification: Dolby Atmos, HiRES, Dual Microphones, Security: FoD FPS, Face Unlock, Moto Secure, Thinkshield for Mobile, Hello UI: Personalize (Theme, Wallpaper), Display (Peek Display, Attentive Display), Gestures (Quick Capture, Fast Flashlight, Three Finger Screenshot, Flip for DND, Pick Up to Silence, Lift to Unlock, Swipe to Split, Quick Launch), Play (Media Controls, Gametime), Tips (Take a Tour, What's New in Android 14), Voice Control: Google Assistant, SW Unique Experience: Moto Connect (Wireless), Moto Unplugged, Ready For. GPS Type: GPS, AGPS, LTEPP, GLONASS, GALILEO, QZSS. FM Radio: No. FM Radio Recording: No. Battery Capacity: 5000 mAh. Width: 73.1 mm. Height: 162 mm. Depth: 7.9 mm. Weight: 175 g. Warranty Summary: 1 Year on Handset and 6 Months on Accessories. Domestic Warranty: 1 Year\"]"
      ]
     },
     "execution_count": 13,
     "metadata": {},
     "output_type": "execute_result"
    }
   ],
   "source": [
    "documents"
   ]
  },
  {
   "cell_type": "code",
   "execution_count": 14,
   "id": "de5df4ed-19c7-4242-8e7a-b633ee751e54",
   "metadata": {},
   "outputs": [
    {
     "name": "stdout",
     "output_type": "stream",
     "text": [
      "WARNING:tensorflow:From C:\\Users\\bgaut\\AppData\\Local\\Programs\\Python\\Python312\\Lib\\site-packages\\tf_keras\\src\\losses.py:2976: The name tf.losses.sparse_softmax_cross_entropy is deprecated. Please use tf.compat.v1.losses.sparse_softmax_cross_entropy instead.\n",
      "\n"
     ]
    }
   ],
   "source": [
    "from sentence_transformers import SentenceTransformer\n",
    "import faiss\n",
    "from transformers import pipeline"
   ]
  },
  {
   "cell_type": "code",
   "execution_count": 15,
   "id": "e23ab2cf-92b0-4753-8366-12af0cc37de1",
   "metadata": {},
   "outputs": [],
   "source": [
    "# --- Generate Embeddings ---\n",
    "model = SentenceTransformer('all-MiniLM-L6-v2')\n",
    "embeddings = model.encode(documents)"
   ]
  },
  {
   "cell_type": "code",
   "execution_count": 16,
   "id": "52de0811-8023-4a11-9eaf-f5aad7248498",
   "metadata": {},
   "outputs": [],
   "source": [
    "# Create FAISS index\n",
    "dimension = embeddings.shape[1]\n",
    "index = faiss.IndexFlatL2(dimension)\n",
    "index.add(embeddings.astype('float32'))"
   ]
  },
  {
   "cell_type": "code",
   "execution_count": 21,
   "id": "e1657f31-cac9-4b06-85be-d643d4094a92",
   "metadata": {},
   "outputs": [
    {
     "name": "stderr",
     "output_type": "stream",
     "text": [
      "Some weights of the model checkpoint at bert-large-uncased-whole-word-masking-finetuned-squad were not used when initializing BertForQuestionAnswering: ['bert.pooler.dense.bias', 'bert.pooler.dense.weight']\n",
      "- This IS expected if you are initializing BertForQuestionAnswering from the checkpoint of a model trained on another task or with another architecture (e.g. initializing a BertForSequenceClassification model from a BertForPreTraining model).\n",
      "- This IS NOT expected if you are initializing BertForQuestionAnswering from the checkpoint of a model that you expect to be exactly identical (initializing a BertForSequenceClassification model from a BertForSequenceClassification model).\n",
      "Device set to use cpu\n"
     ]
    }
   ],
   "source": [
    "# --- QA Pipeline ---\n",
    "qa_pipeline = pipeline(\n",
    "    \"question-answering\",\n",
    "    model=\"bert-large-uncased-whole-word-masking-finetuned-squad\"\n",
    ")"
   ]
  },
  {
   "cell_type": "code",
   "execution_count": 22,
   "id": "a38cb809-4d9b-41b0-a267-f7628bf2220d",
   "metadata": {},
   "outputs": [],
   "source": [
    "def answer_question(question):\n",
    "    # Search for relevant documents\n",
    "    query_embedding = model.encode([question])\n",
    "    distances, indices = index.search(query_embedding.astype('float32'), k=3)\n",
    "    \n",
    "    # Get context from the most relevant document\n",
    "    context = documents[indices[0][0]]\n",
    "    \n",
    "    # Get answer from BERT\n",
    "    result = qa_pipeline(question=question, context=context)\n",
    "    \n",
    "    return result[\"answer\"] if result[\"score\"] > 0.1 else \"I don't know.\""
   ]
  },
  {
   "cell_type": "code",
   "execution_count": 23,
   "id": "e74ee723-6b25-4777-a791-7cbbc6b3beb3",
   "metadata": {},
   "outputs": [
    {
     "name": "stdout",
     "output_type": "stream",
     "text": [
      "₹22,999\n",
      "Bluetooth Support: Yes. Bluetooth Version: v5.2\n",
      "5000 mAh\n"
     ]
    }
   ],
   "source": [
    "# --- Test ---\n",
    "print(answer_question(\"What is the price?\"))       \n",
    "print(answer_question(\"Does it have Bluetooth?\"))   \n",
    "print(answer_question(\"What's the battery capacity?\"))  "
   ]
  },
  {
   "cell_type": "code",
   "execution_count": 25,
   "id": "c83b8419-537f-42ef-be9d-bdc356259967",
   "metadata": {},
   "outputs": [
    {
     "name": "stdout",
     "output_type": "stream",
     "text": [
      "Blue\n"
     ]
    }
   ],
   "source": [
    "print(answer_question(\"What is the color of product?\"))"
   ]
  },
  {
   "cell_type": "code",
   "execution_count": 26,
   "id": "ef533e7a-80b5-4a26-b9a0-48e4281108c6",
   "metadata": {},
   "outputs": [
    {
     "name": "stdout",
     "output_type": "stream",
     "text": [
      "0.7um Pixel Size\n"
     ]
    }
   ],
   "source": [
    "print(answer_question(\"What is the size\"))"
   ]
  },
  {
   "cell_type": "code",
   "execution_count": 24,
   "id": "ffbcb682-754e-4f30-b142-47d9c23e81d6",
   "metadata": {},
   "outputs": [
    {
     "name": "stdout",
     "output_type": "stream",
     "text": [
      "* Running on local URL:  http://127.0.0.1:7860\n",
      "\n",
      "To create a public link, set `share=True` in `launch()`.\n"
     ]
    },
    {
     "data": {
      "text/html": [
       "<div><iframe src=\"http://127.0.0.1:7860/\" width=\"100%\" height=\"500\" allow=\"autoplay; camera; microphone; clipboard-read; clipboard-write;\" frameborder=\"0\" allowfullscreen></iframe></div>"
      ],
      "text/plain": [
       "<IPython.core.display.HTML object>"
      ]
     },
     "metadata": {},
     "output_type": "display_data"
    },
    {
     "data": {
      "text/plain": []
     },
     "execution_count": 24,
     "metadata": {},
     "output_type": "execute_result"
    }
   ],
   "source": [
    "import gradio as gr\n",
    "gr.Interface(fn=answer_question, inputs=\"text\", outputs=\"text\").launch()"
   ]
  },
  {
   "cell_type": "code",
   "execution_count": null,
   "id": "ec903346-4a04-458a-8157-416e07e8e1bb",
   "metadata": {},
   "outputs": [],
   "source": []
  }
 ],
 "metadata": {
  "kernelspec": {
   "display_name": "Python 3 (ipykernel)",
   "language": "python",
   "name": "python3"
  },
  "language_info": {
   "codemirror_mode": {
    "name": "ipython",
    "version": 3
   },
   "file_extension": ".py",
   "mimetype": "text/x-python",
   "name": "python",
   "nbconvert_exporter": "python",
   "pygments_lexer": "ipython3",
   "version": "3.12.8"
  }
 },
 "nbformat": 4,
 "nbformat_minor": 5
}
